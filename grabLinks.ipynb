{
 "cells": [
  {
   "cell_type": "code",
   "execution_count": null,
   "metadata": {},
   "outputs": [],
   "source": [
    "import pandas, getpass, requests, sys, pprint, glob, os, json, shutil, string, os\n",
    "import wikipedia, re\n",
    "from datetime import datetime, timedelta\n",
    "import warnings\n",
    "warnings.filterwarnings(\"ignore\")\n",
    "\n",
    "folders = [dirnames for filepath, dirnames, files in os.walk(os.getcwd())][0]\n",
    "\n",
    "# Set the path of current directory\n",
    "path = str(os.getcwd())\n",
    "if not path.endswith(os.path.sep):\n",
    "    path += os.path.sep    \n",
    "    \n",
    "collection_path = path + \"collection\" + os.path.sep\n",
    "\n",
    "# Create collection folder if not exists\n",
    "if \"collection\" not in folders:    \n",
    "    os.mkdir(collection_path)"
   ]
  },
  {
   "cell_type": "code",
   "execution_count": null,
   "metadata": {},
   "outputs": [],
   "source": [
    "mainPage = wikipedia.page(title=\"Main_Page\", auto_suggest=True, redirect=True, preload=False)\n",
    "links = mainPage.links"
   ]
  },
  {
   "cell_type": "code",
   "execution_count": null,
   "metadata": {},
   "outputs": [],
   "source": [
    "print(\"Initially started with \" + str(len(links)) + \" links.\")"
   ]
  },
  {
   "cell_type": "code",
   "execution_count": null,
   "metadata": {},
   "outputs": [],
   "source": [
    "# Now that we have an initial list of links we will repeat the process again until we have 100,000 links\n",
    "def gatherData():    \n",
    "    global links    \n",
    "    for link in links:                        \n",
    "        page = wikipedia.page(title=link, auto_suggest=True, redirect=True, preload=False)\n",
    "        newLinks = page.links\n",
    "        resultingList = list(links)\n",
    "        resultingList.extend(x for x in newLinks if x not in resultingList)\n",
    "        links = resultingList\n",
    "        if len(links) > 100000:\n",
    "            break              "
   ]
  },
  {
   "cell_type": "code",
   "execution_count": null,
   "metadata": {},
   "outputs": [],
   "source": [
    "print(\"Gathering data!\")\n",
    "gatherData()\n",
    "print(\"We now have \" + str(len(links)) + \" links.\")"
   ]
  }
 ],
 "metadata": {
  "kernelspec": {
   "display_name": "Python 3",
   "language": "python",
   "name": "python3"
  },
  "language_info": {
   "codemirror_mode": {
    "name": "ipython",
    "version": 3
   },
   "file_extension": ".py",
   "mimetype": "text/x-python",
   "name": "python",
   "nbconvert_exporter": "python",
   "pygments_lexer": "ipython3",
   "version": "3.7.3"
  }
 },
 "nbformat": 4,
 "nbformat_minor": 2
}
